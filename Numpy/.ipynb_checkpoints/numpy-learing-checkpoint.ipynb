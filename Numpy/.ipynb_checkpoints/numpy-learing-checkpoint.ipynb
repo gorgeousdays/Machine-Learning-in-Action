{
 "cells": [
  {
   "cell_type": "markdown",
   "metadata": {},
   "source": [
    "### Numpy Learing"
   ]
  },
  {
   "cell_type": "markdown",
   "metadata": {},
   "source": [
    "生产随机数组`array` "
   ]
  },
  {
   "cell_type": "code",
   "execution_count": 3,
   "metadata": {
    "ExecuteTime": {
     "end_time": "2021-01-24T06:11:58.749887Z",
     "start_time": "2021-01-24T06:11:58.743902Z"
    },
    "scrolled": true
   },
   "outputs": [
    {
     "data": {
      "text/plain": [
       "array([[0.98996822, 0.67890847, 0.45903429, 0.92177494],\n",
       "       [0.49494927, 0.86330836, 0.88683832, 0.62414032],\n",
       "       [0.39961451, 0.31022016, 0.4880159 , 0.05965179],\n",
       "       [0.28579098, 0.92528477, 0.77257169, 0.801501  ]])"
      ]
     },
     "execution_count": 3,
     "metadata": {},
     "output_type": "execute_result"
    }
   ],
   "source": [
    "from numpy import *\n",
    "random.rand(4,4)"
   ]
  },
  {
   "cell_type": "markdown",
   "metadata": {
    "ExecuteTime": {
     "end_time": "2021-01-24T06:20:12.664511Z",
     "start_time": "2021-01-24T06:20:12.654497Z"
    }
   },
   "source": [
    "转化为矩阵`matrix`  通过`.I`进行求逆运算"
   ]
  },
  {
   "cell_type": "code",
   "execution_count": 7,
   "metadata": {
    "ExecuteTime": {
     "end_time": "2021-01-24T06:16:09.953706Z",
     "start_time": "2021-01-24T06:16:09.947745Z"
    }
   },
   "outputs": [
    {
     "data": {
      "text/plain": [
       "matrix([[ 3.68893109,  2.21288997, -5.70728973,  3.27104207],\n",
       "        [ 1.72239606,  4.27860446, -5.5167314 ,  2.64609058],\n",
       "        [-0.61189165, -3.85643569,  6.33289596, -4.37673417],\n",
       "        [-2.69036188, -2.11201246,  4.44354386, -1.04197199]])"
      ]
     },
     "execution_count": 7,
     "metadata": {},
     "output_type": "execute_result"
    }
   ],
   "source": [
    "randMat=mat(random.rand(4,4))\n",
    "invRandMat=randMat.I\n",
    "randMat.I"
   ]
  },
  {
   "cell_type": "markdown",
   "metadata": {
    "ExecuteTime": {
     "end_time": "2021-01-24T06:21:28.043904Z",
     "start_time": "2021-01-24T06:21:28.025688Z"
    }
   },
   "source": [
    "矩阵乘法"
   ]
  },
  {
   "cell_type": "code",
   "execution_count": 14,
   "metadata": {
    "ExecuteTime": {
     "end_time": "2021-01-24T06:21:40.095799Z",
     "start_time": "2021-01-24T06:21:40.084814Z"
    },
    "scrolled": true
   },
   "outputs": [
    {
     "data": {
      "text/plain": [
       "matrix([[ 1.00000000e+00,  1.89225408e-16, -4.14625811e-17,\n",
       "         -2.04729190e-16],\n",
       "        [-1.48471298e-16,  1.00000000e+00,  1.06578624e-15,\n",
       "          8.04514170e-17],\n",
       "        [ 4.15090536e-16,  5.84105892e-16,  1.00000000e+00,\n",
       "          2.73257792e-16],\n",
       "        [ 2.21843652e-16,  3.44351397e-17,  4.97863985e-17,\n",
       "          1.00000000e+00]])"
      ]
     },
     "execution_count": 14,
     "metadata": {},
     "output_type": "execute_result"
    }
   ],
   "source": [
    "randMat*invRandMat"
   ]
  },
  {
   "cell_type": "markdown",
   "metadata": {
    "ExecuteTime": {
     "end_time": "2021-01-24T06:22:23.903208Z",
     "start_time": "2021-01-24T06:22:23.896231Z"
    }
   },
   "source": [
    "计算误差 通过`eye(4)`c创建四阶单位阵"
   ]
  },
  {
   "cell_type": "code",
   "execution_count": 10,
   "metadata": {
    "ExecuteTime": {
     "end_time": "2021-01-24T06:17:13.779448Z",
     "start_time": "2021-01-24T06:17:13.767044Z"
    }
   },
   "outputs": [
    {
     "data": {
      "text/plain": [
       "matrix([[-2.22044605e-16,  1.89225408e-16, -4.14625811e-17,\n",
       "         -2.04729190e-16],\n",
       "        [-1.48471298e-16, -1.11022302e-16,  1.06578624e-15,\n",
       "          8.04514170e-17],\n",
       "        [ 4.15090536e-16,  5.84105892e-16, -4.44089210e-16,\n",
       "          2.73257792e-16],\n",
       "        [ 2.21843652e-16,  3.44351397e-17,  4.97863985e-17,\n",
       "         -1.11022302e-16]])"
      ]
     },
     "execution_count": 10,
     "metadata": {},
     "output_type": "execute_result"
    }
   ],
   "source": [
    "myEye=randMat*invRandMat\n",
    "myEye-eye(4)"
   ]
  }
 ],
 "metadata": {
  "kernelspec": {
   "display_name": "Python 3",
   "language": "python",
   "name": "python3"
  },
  "language_info": {
   "codemirror_mode": {
    "name": "ipython",
    "version": 3
   },
   "file_extension": ".py",
   "mimetype": "text/x-python",
   "name": "python",
   "nbconvert_exporter": "python",
   "pygments_lexer": "ipython3",
   "version": "3.6.7"
  },
  "toc": {
   "base_numbering": 1,
   "nav_menu": {},
   "number_sections": true,
   "sideBar": true,
   "skip_h1_title": false,
   "title_cell": "Table of Contents",
   "title_sidebar": "Contents",
   "toc_cell": false,
   "toc_position": {},
   "toc_section_display": true,
   "toc_window_display": true
  }
 },
 "nbformat": 4,
 "nbformat_minor": 4
}

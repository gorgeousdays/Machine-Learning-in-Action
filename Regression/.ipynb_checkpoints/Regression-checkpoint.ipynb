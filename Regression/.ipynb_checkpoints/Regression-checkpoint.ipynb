{
 "cells": [
  {
   "cell_type": "markdown",
   "metadata": {},
   "source": [
    "## 预测数值型数据：回归\n",
    "回归的目的是为了预测数值型的目标值。一般通过回归方程（regression equation）来实现，求解回归系数（regression weights）的过程被称为回归。"
   ]
  },
  {
   "cell_type": "markdown",
   "metadata": {},
   "source": [
    "### 线性回归\n",
    "回归一般指线性回归。存在输入值矩阵**x**和回归系数向量w，可以得到预测值y。\n",
    "\n",
    "而我们的目标是根据已有的x和y找到对应的w。常用的方法是找到使误差最小的w。误差指预测y值和真实y值的差值。因为正负差值相抵消，在此使用平方误差。\n",
    "\n",
    "平方误差记为$$\\sum_{i=1}^m(y_i-x_i^Tw)^2$$对w求导，得到$x^T(Y-Xw)$，令其为0，解得$$\\hat{w}=(X^TX)^{-1}X^Ty$$"
   ]
  },
  {
   "cell_type": "code",
   "execution_count": 7,
   "metadata": {
    "ExecuteTime": {
     "end_time": "2021-02-18T04:59:13.967178Z",
     "start_time": "2021-02-18T04:59:13.843593Z"
    }
   },
   "outputs": [
    {
     "data": {
      "image/png": "[encoded data removed]",
      "text/plain": [
       "<Figure size 432x288 with 1 Axes>"
      ]
     },
     "metadata": {
      "needs_background": "light"
     },
     "output_type": "display_data"
    }
   ],
   "source": [
    "from numpy import *\n",
    "import matplotlib.pyplot as plt\n",
    "def loadDataSet(fileName):     \n",
    "    numFeat = len(open(fileName).readline().split('\\t')) - 1 \n",
    "    dataMat = []; labelMat = []\n",
    "    fr = open(fileName)\n",
    "    for line in fr.readlines():\n",
    "        lineArr =[]\n",
    "        curLine = line.strip().split('\\t')\n",
    "        for i in range(numFeat):\n",
    "            lineArr.append(float(curLine[i]))\n",
    "        dataMat.append(lineArr)\n",
    "        labelMat.append(float(curLine[-1]))\n",
    "    return dataMat,labelMat\n",
    "\n",
    "def standRegres(xArr,yArr):\n",
    "    xMat = mat(xArr); yMat = mat(yArr).T\n",
    "    xTx = xMat.T*xMat\n",
    "    if linalg.det(xTx) == 0.0:\n",
    "        print(\"This matrix is singular, cannot do inverse\")\n",
    "        return\n",
    "    ws = xTx.I * (xMat.T*yMat)\n",
    "    return ws\n",
    "xArr,yArr=loadDataSet('ex0.txt')\n",
    "#print(xArr[0:1])xArr有两个值，第一值X0=1表示偏移量，第二个X1为横坐标。\n",
    "ws=standRegres(xArr,yArr)\n",
    "\n",
    "xMat=mat(xArr)\n",
    "yMat=mat(yArr)\n",
    "yHat=xMat*ws\n",
    "\n",
    "fig=plt.figure()\n",
    "ax=fig.add_subplot(111)\n",
    "ax.scatter(xMat[:,1].flatten().A[0],yMat.T[:,0].flatten().A[0])#绘制原始数据\n",
    "#绘制拟合曲线\n",
    "xCopy=xMat.copy()\n",
    "xCopy.sort(0)#如果直线上的数据点次序混乱，绘图就会出问题，所以将数据点升序排序\n",
    "yHat=xCopy*ws\n",
    "ax.plot(xCopy[:,1],yHat)\n",
    "plt.show()"
   ]
  },
  {
   "cell_type": "markdown",
   "metadata": {},
   "source": [
    "### 局部加权线性回归\n",
    "线性回归会出现欠拟合的情况，因为它所求的是具有最小均方误差的无偏估计。\n",
    "\n",
    "其中一种方法是局部加权线性回归（Locally Weighted Linear Regression）。我们给带待预测点附近的每个点赋予一定的权重，在选取的数据子集上进行普通的回归。同KNN，这种算法每次预测都要先选取对应的数据子集，解得回归系数为$$\\hat{w}=(X^TWX)^{-1}X^TWy$$其中$W$是用于给数据点赋权重的矩阵。\n",
    "\n",
    "LWLE采用\"核\"来对附近的点赋予更高的权重。常见的有高斯核$$W(i,i)=exp(\\frac{|x^{(i)}-x|}{-2k^2})$$"
   ]
  },
  {
   "cell_type": "code",
   "execution_count": 12,
   "metadata": {
    "ExecuteTime": {
     "end_time": "2021-02-18T06:30:41.189742Z",
     "start_time": "2021-02-18T06:30:40.012545Z"
    }
   },
   "outputs": [
    {
     "data": {
      "image/png": "[encoded data removed]",
      "text/plain": [
       "<Figure size 432x288 with 1 Axes>"
      ]
     },
     "metadata": {
      "needs_background": "light"
     },
     "output_type": "display_data"
    }
   ],
   "source": [
    "from numpy import *\n",
    "import matplotlib.pyplot as plt\n",
    "def loadDataSet(fileName):     \n",
    "    numFeat = len(open(fileName).readline().split('\\t')) - 1 \n",
    "    dataMat = []; labelMat = []\n",
    "    fr = open(fileName)\n",
    "    for line in fr.readlines():\n",
    "        lineArr =[]\n",
    "        curLine = line.strip().split('\\t')\n",
    "        for i in range(numFeat):\n",
    "            lineArr.append(float(curLine[i]))\n",
    "        dataMat.append(lineArr)\n",
    "        labelMat.append(float(curLine[-1]))\n",
    "    return dataMat,labelMat\n",
    "\n",
    "def lwlr(testPoint,xArr,yArr,k=1.0):#k用于控制权重衰减速度\n",
    "    xMat = mat(xArr); yMat = mat(yArr).T\n",
    "    m = shape(xMat)[0]\n",
    "    weights = mat(eye((m)))   #创建对角权重矩阵\n",
    "    for j in range(m):                      #遍历数据集，计算每个样本点对应的权重\n",
    "        diffMat = testPoint - xMat[j,:]     \n",
    "        weights[j,j] = exp(diffMat*diffMat.T/(-2.0*k**2))#样本点与待预测点距离的递增，权重将以指数级衰减\n",
    "    xTx = xMat.T * (weights * xMat)\n",
    "    if linalg.det(xTx) == 0.0:\n",
    "        print(\"This matrix is singular, cannot do inverse\")\n",
    "        return\n",
    "    ws = xTx.I * (xMat.T * (weights * yMat))\n",
    "    return testPoint * ws\n",
    "\n",
    "def lwlrTest(testArr,xArr,yArr,k=1.0):  #为数据集中每个点调用lwlr（），即得到所有点的估计\n",
    "    m = shape(testArr)[0]\n",
    "    yHat = zeros(m)\n",
    "    for i in range(m):\n",
    "        yHat[i] = lwlr(testArr[i],xArr,yArr,k)\n",
    "    return yHat\n",
    "\n",
    "def lwlrTestPlot(xArr,yArr,k=1.0):  #same thing as lwlrTest except it sorts X first\n",
    "    yHat = zeros(shape(yArr))       #easier for plotting\n",
    "    xCopy = mat(xArr)\n",
    "    xCopy.sort(0)\n",
    "    for i in range(shape(xArr)[0]):\n",
    "        yHat[i] = lwlr(xCopy[i],xArr,yArr,k)\n",
    "xArr,yArr=loadDataSet('ex0.txt')\n",
    "yHat=lwlrTest(xArr,xArr,yArr,0.01)#调整k值 k=0.003时会过拟合 k=0.01时效果较好 k=1时效果同线性回归\n",
    "xMat=mat(xArr)\n",
    "srtInd=xMat[:,1].argsort(0)\n",
    "xSort=xMat[srtInd][:,0,:]\n",
    "fig=plt.figure()\n",
    "ax=fig.add_subplot(111)\n",
    "ax.plot(xSort[:,1],yHat[srtInd])\n",
    "ax.scatter(xMat[:,1].flatten().A[0],mat(yArr).T.flatten().A[0],s=2,c='red')\n",
    "plt.show()"
   ]
  },
  {
   "cell_type": "markdown",
   "metadata": {},
   "source": [
    "**如果特征比样本点还多（n>m）,即输入数据的矩阵x不是满秩矩阵。可以采用岭回归、lasso法或者前向逐步回归，lasso法效果更好但是计算复杂，前向逐步回归更容易实现。**"
   ]
  },
  {
   "cell_type": "markdown",
   "metadata": {},
   "source": [
    "### 岭回归\n",
    "岭回归就是在矩阵$x^Tx$上加一个$\\lambda I$从而使集中非奇异。矩阵$I$为一个mxm的单位矩阵。在这种情况下，回归系数的计算公式将变为$$\\hat{w}=(X^TX+\\lambda I)^{-1}X^Ty$$\n",
    "\n",
    "岭回归中的岭：岭回归中我们采用单位阵乘以常量$\\lambda$,对于单位阵，可以看到值1贯穿整个对角线。即在0构成的平面上有一条1构成的岭。\n",
    "\n",
    "通过预测误差最小化得到$\\lambda$:获取数据后，部分用于测试，剩余作为训练集训练参数$w$。训练完毕后在测试集上测试预测性能。目标就是通过选取不同的$\\lambda$来重复上述测试过程，最终得到一个使预测误差最小的$\\lambda$"
   ]
  },
  {
   "cell_type": "code",
   "execution_count": 14,
   "metadata": {
    "ExecuteTime": {
     "end_time": "2021-02-18T07:41:07.231962Z",
     "start_time": "2021-02-18T07:41:06.812000Z"
    }
   },
   "outputs": [
    {
     "data": {
      "image/png": "[encoded data removed]",
      "text/plain": [
       "<Figure size 432x288 with 1 Axes>"
      ]
     },
     "metadata": {
      "needs_background": "light"
     },
     "output_type": "display_data"
    }
   ],
   "source": [
    "#用于计算回归系数\n",
    "def ridgeRegres(xMat,yMat,lam=0.2):#lambda是保留关键字，所以用lam\n",
    "    xTx = xMat.T*xMat\n",
    "    denom = xTx + eye(shape(xMat)[1])*lam\n",
    "    if linalg.det(denom) == 0.0:\n",
    "        print(\"This matrix is singular, cannot do inverse\")\n",
    "        return\n",
    "    ws = denom.I * (xMat.T*yMat)\n",
    "    return ws\n",
    "\n",
    "#用于在一组lambda上测试  \n",
    "def ridgeTest(xArr,yArr):\n",
    "    xMat = mat(xArr); yMat=mat(yArr).T\n",
    "    yMean = mean(yMat,0)\n",
    "    #数据标准化，所有数据减去自己的均值再除以方差\n",
    "    yMat = yMat - yMean   \n",
    "    #regularize X's\n",
    "    xMeans = mean(xMat,0)   \n",
    "    xVar = var(xMat,0)     \n",
    "    xMat = (xMat - xMeans)/xVar\n",
    "    numTestPts = 30\n",
    "    wMat = zeros((numTestPts,shape(xMat)[1]))\n",
    "    for i in range(numTestPts):\n",
    "        ws = ridgeRegres(xMat,yMat,exp(i-10))\n",
    "        wMat[i,:]=ws.T\n",
    "    return wMat\n",
    "\n",
    "abX,abY=loadDataSet('abalone.txt')#采用岭回归预测鲍鱼年龄\n",
    "ridgeWeights=ridgeTest(abX,abY)\n",
    "fig=plt.figure()\n",
    "ax=fig.add_subplot(111)\n",
    "ax.plot(ridgeWeights)\n",
    "plt.show()"
   ]
  },
  {
   "cell_type": "markdown",
   "metadata": {},
   "source": [
    "上图可以发现$\\lambda$最小时为所有系数的原始值，而在右边系数全部缩减为0.在中间部分的某值将会取得最好的预测效果，而要定量找到该值则要进行交叉验证。另外，要判断哪些变量对预测结果最具影响力，观察其系数大小即可。\n",
    "\n",
    "岭回归（ridge regression）通过引入$\\lambda$来限制所有w的和，通过引入该惩罚项，能够减少不重要的参数。这种计算在统计学上叫做缩减（shrinkage）。还有其它的一些缩减方法，如lasso，LAR，PCA回归以及子集选择等。\n",
    "\n",
    "**lasso**：\n",
    "普通的最小二乘回归以及岭回归的限定：$$\\sum_{k=1}^nw_k^2\\le\\lambda$$,lasso对回归系数的限定为$$\\sum_{k=1}^n|w_k|\\le\\lambda$$用绝对值取代平方和，计算复杂度极大地增大了。"
   ]
  },
  {
   "cell_type": "markdown",
   "metadata": {},
   "source": [
    "### 前向逐步回归"
   ]
  },
  {
   "cell_type": "code",
   "execution_count": 15,
   "metadata": {
    "ExecuteTime": {
     "end_time": "2021-02-18T07:44:11.718974Z",
     "start_time": "2021-02-18T07:44:11.714939Z"
    }
   },
   "outputs": [],
   "source": [
    "#伪代码\n",
    "#数据标准化，使其分布满足0均值和单位方差\n",
    "#在每轮迭代过程中：\n",
    "#    设置当前最小误差lowestError为正无穷\n",
    "#    对每个特征：\n",
    "#        增大或缩小：\n",
    "#            改变一个系数得到新的W\n",
    "#            计算新的W下的误差\n",
    "#            如果误差Error小于当前最小误差lowestError：设置Wbest等于当前的W\n",
    "#        将W设置为新的Wbest\n",
    "def stageWise(xArr,yArr,eps=0.01,numIt=100):#esp为每次迭代需要调整的步长，numIt表示迭代次数\n",
    "    xMat = mat(xArr); yMat=mat(yArr).T\n",
    "    yMean = mean(yMat,0)\n",
    "    yMat = yMat - yMean    \n",
    "    xMat = regularize(xMat)\n",
    "    m,n=shape(xMat)\n",
    "    #returnMat = zeros((numIt,n)) #testing code remove\n",
    "    ws = zeros((n,1)); wsTest = ws.copy(); wsMax = ws.copy()\n",
    "    for i in range(numIt):\n",
    "        print ws.T\n",
    "        lowestError = inf; \n",
    "        for j in range(n):\n",
    "            for sign in [-1,1]:\n",
    "                wsTest = ws.copy()\n",
    "                wsTest[j] += eps*sign\n",
    "                yTest = xMat*wsTest\n",
    "                rssE = rssError(yMat.A,yTest.A)\n",
    "                if rssE < lowestError:\n",
    "                    lowestError = rssE\n",
    "                    wsMax = wsTest\n",
    "        ws = wsMax.copy()\n",
    "        returnMat[i,:]=ws.T\n",
    "    return returnMat"
   ]
  },
  {
   "cell_type": "markdown",
   "metadata": {},
   "source": [
    "### 总结\n",
    "回归用于预测连续性变量，分类则是预测离散型变量。\n",
    "\n",
    "线性回归的优缺点：\n",
    "* 优点：结果易于理解，计算上不复杂\n",
    "* 缺点：对非线性的数据拟合不好\n",
    "* 适用数据类型：数值型和标称型数据"
   ]
  },
  {
   "cell_type": "markdown",
   "metadata": {},
   "source": [
    "## 树回归"
   ]
  },
  {
   "cell_type": "markdown",
   "metadata": {},
   "source": [
    "当数据拥有众多特征并且特征之间关系十分复杂时，线性回归就难以使用。在此可以将数据集切分成很多份易建模的数据，然后利用回归技术。即树结构+回归法。\n",
    "\n",
    "之前的决策树章节采用的树构建算法是ID3，但它存在切分过于迅速以及不能直接处理连续型特征的问题。在此采用CART算法，它使用二元切分法来处理连续型变量。"
   ]
  },
  {
   "cell_type": "code",
   "execution_count": 1,
   "metadata": {
    "ExecuteTime": {
     "end_time": "2021-02-20T02:25:40.823775Z",
     "start_time": "2021-02-20T02:25:40.817674Z"
    }
   },
   "outputs": [],
   "source": [
    "#树节点的构建\n",
    "class treeNode():\n",
    "    def __init__(self,feat,val,right,left):\n",
    "        featureToSplitOn=feat#待切分的特征\n",
    "        valueOfSplit=val#待切分的特征值\n",
    "        rightBranch=right#右子树。当不再需要切分时，也可以是单个值\n",
    "        leftBranch=left#左子树"
   ]
  },
  {
   "cell_type": "markdown",
   "metadata": {},
   "source": [
    "接下来将构建回归树（regression tree,每个叶节点包含单个值）与模型树（model tree 每个叶节点包含一个线性方程）。"
   ]
  },
  {
   "cell_type": "code",
   "execution_count": 1,
   "metadata": {
    "ExecuteTime": {
     "end_time": "2021-02-20T07:59:02.988132Z",
     "start_time": "2021-02-20T07:59:02.669106Z"
    }
   },
   "outputs": [
    {
     "name": "stdout",
     "output_type": "stream",
     "text": [
      "[[1. 0. 0. 0.]\n",
      " [0. 1. 0. 0.]\n",
      " [0. 0. 1. 0.]\n",
      " [0. 0. 0. 1.]]\n",
      "[[0. 1. 0. 0.]]\n",
      "[[1. 0. 0. 0.]\n",
      " [0. 0. 1. 0.]\n",
      " [0. 0. 0. 1.]]\n"
     ]
    }
   ],
   "source": [
    "#两种树构建算法中的一些共用代码\n",
    "#craetTree()伪代码 （代码见下一个cell）\n",
    "#找到最佳的待切分特征：\n",
    "#    如果该节点不能再分，将该节点存为叶节点\n",
    "#    执行二元切分\n",
    "#    在右子树调用createTree()方法\n",
    "#    在左子树调用createTree()方法\n",
    "from numpy import *\n",
    "\n",
    "def loadDataSet(fileName):      \n",
    "    dataMat = []               \n",
    "    fr = open(fileName)\n",
    "    for line in fr.readlines():\n",
    "        curLine = line.strip().split('\\t')\n",
    "        fltLine = list(map(float,curLine))#将每行内容保存为一组浮点数\n",
    "        dataMat.append(fltLine)\n",
    "    return dataMat\n",
    "\n",
    "#在给定特征和特征值的情况下，该函数通过数组过滤方法将上述数据集切分得到两个子集并返回\n",
    "def binSplitDataSet(dataSet, feature, value):#数据集、待切分对象、该特征的某个值\n",
    "    mat0 = dataSet[nonzero(dataSet[:,feature] > value)[0],:]#原书代码有误\n",
    "    mat1 = dataSet[nonzero(dataSet[:,feature] <= value)[0],:]\n",
    "    return mat0,mat1\n",
    "\n",
    "\n",
    "#binSplitDataSet测试\n",
    "testMat=mat(eye(4))\n",
    "print(testMat)\n",
    "mat0,mat1=binSplitDataSet(testMat,1,0.5)\n",
    "print(mat0)\n",
    "print(mat1)"
   ]
  },
  {
   "cell_type": "markdown",
   "metadata": {},
   "source": [
    "### 回归树"
   ]
  },
  {
   "cell_type": "code",
   "execution_count": 2,
   "metadata": {
    "ExecuteTime": {
     "end_time": "2021-02-20T07:59:05.674895Z",
     "start_time": "2021-02-20T07:59:05.531248Z"
    }
   },
   "outputs": [
    {
     "name": "stdout",
     "output_type": "stream",
     "text": [
      "{'spInd': 0, 'spVal': 0.48813, 'left': 1.0180967672413792, 'right': -0.04465028571428572}\n"
     ]
    },
    {
     "data": {
      "text/plain": [
       "{'spInd': 1,\n",
       " 'spVal': 0.39435,\n",
       " 'left': {'spInd': 1,\n",
       "  'spVal': 0.582002,\n",
       "  'left': {'spInd': 1,\n",
       "   'spVal': 0.797583,\n",
       "   'left': 3.9871632,\n",
       "   'right': 2.9836209534883724},\n",
       "  'right': 1.980035071428571},\n",
       " 'right': {'spInd': 1,\n",
       "  'spVal': 0.197834,\n",
       "  'left': 1.0289583666666666,\n",
       "  'right': -0.023838155555555553}}"
      ]
     },
     "execution_count": 2,
     "metadata": {},
     "output_type": "execute_result"
    }
   ],
   "source": [
    "#chooseBestSplit伪代码\n",
    "#对每个特征：\n",
    "#   对每个特征值：\n",
    "#       将数据集切分成两份\n",
    "#       计算切分的误差\n",
    "#       如果当前误差小于当前最新误差，那么将当前切分设定为最佳切分并更新最小误差\n",
    "#返回最佳切分的特征和阈值\n",
    "\n",
    "def regLeaf(dataSet):#负责生成叶子节点\n",
    "    return mean(dataSet[:,-1])\n",
    "\n",
    "def regErr(dataSet):#计算平方误差\n",
    "    return var(dataSet[:,-1]) * shape(dataSet)[0]#均方差×样本个数\n",
    "\n",
    "#寻找数据的最佳二元切分\n",
    "def chooseBestSplit(dataSet, leafType=regLeaf, errType=regErr, ops=(1,4)):\n",
    "    tolS = ops[0]; tolN = ops[1]#容许的误差下降值；切分的最小样本数\n",
    "    #如果所有值相等，则退出\n",
    "    if len(set(dataSet[:,-1].T.tolist()[0])) == 1:\n",
    "        return None, leafType(dataSet)\n",
    "    m,n = shape(dataSet)\n",
    "    S = errType(dataSet)#误差S将与新切分误差对比\n",
    "    bestS = inf; bestIndex = 0; bestValue = 0\n",
    "    for featIndex in range(n-1):\n",
    "        for splitVal in set((dataSet[:,featIndex].T.A.tolist())[0]):\n",
    "            mat0, mat1 = binSplitDataSet(dataSet, featIndex, splitVal)\n",
    "            if (shape(mat0)[0] < tolN) or (shape(mat1)[0] < tolN): continue\n",
    "            newS = errType(mat0) + errType(mat1)\n",
    "            if newS < bestS: \n",
    "                bestIndex = featIndex\n",
    "                bestValue = splitVal\n",
    "                bestS = newS\n",
    "    #如果误差减少不大，则退出\n",
    "    if (S - bestS) < tolS: \n",
    "        return None, leafType(dataSet) \n",
    "    mat0, mat1 = binSplitDataSet(dataSet, bestIndex, bestValue)\n",
    "    #如果切分出的数据集很小，则退出\n",
    "    if (shape(mat0)[0] < tolN) or (shape(mat1)[0] < tolN):  \n",
    "        return None, leafType(dataSet)\n",
    "    return bestIndex,bestValue#返回切分特征与1切分值\n",
    "\n",
    "def createTree(dataSet, leafType=regLeaf, errType=regErr, ops=(1,4)):#数据集、建立叶子节点的函数、误差计算函数、ops为包含树构建所需其他参数的元组\n",
    "    feat, val = chooseBestSplit(dataSet, leafType, errType, ops)#切分数据集\n",
    "    if feat == None: return val #满足停止条件则返回值。如果是回归树，则该值为常数。如果为模型树，则为线性方程。\n",
    "    retTree = {}\n",
    "    retTree['spInd'] = feat\n",
    "    retTree['spVal'] = val\n",
    "    lSet, rSet = binSplitDataSet(dataSet, feat, val)#如果不满足条件，则创建新的Python字典并将数据集分为两份，并在此上分别继续创建树\n",
    "    retTree['left'] = createTree(lSet, leafType, errType, ops)\n",
    "    retTree['right'] = createTree(rSet, leafType, errType, ops)\n",
    "    return retTree\n",
    "\n",
    "myDat=loadDataSet('ex00.txt')\n",
    "myMat=mat(myDat)\n",
    "print(createTree(myMat))\n",
    "myDat=loadDataSet('ex01.txt')\n",
    "myMat=mat(myDat)\n",
    "createTree(myMat)\n",
    "#观察结果，可以发现ex00.txt中的数据包含2个节点，而ex01.txt中数据构建的树中包含5个叶子节点"
   ]
  },
  {
   "cell_type": "code",
   "execution_count": 3,
   "metadata": {
    "ExecuteTime": {
     "end_time": "2021-02-20T08:19:19.956428Z",
     "start_time": "2021-02-20T08:19:19.947452Z"
    }
   },
   "outputs": [],
   "source": [
    "#回归树剪枝算法\n",
    "#prune函数伪代码\n",
    "#基于已有的树切分测试数据\n",
    "#    如果存在任一子集是一棵树，则在该子集递归剪枝过程\n",
    "#    计算将当前两个叶节点合并后的误差\n",
    "#    计算不合并的误差\n",
    "#    如果合并会降低误差的话，就将叶节点合并\n",
    "\n",
    "#判断是否为一棵树\n",
    "def isTree(obj):\n",
    "    return (type(obj).__name__=='dict')\n",
    "\n",
    "#寻找叶节点，计算两个叶节点的平均值，对树进行塌陷处理（即返回树平均值）\n",
    "def getMean(tree):\n",
    "    if isTree(tree['right']): tree['right'] = getMean(tree['right'])\n",
    "    if isTree(tree['left']): tree['left'] = getMean(tree['left'])\n",
    "    return (tree['left']+tree['right'])/2.0\n",
    "\n",
    "\n",
    "def prune(tree, testData):#待剪枝的树与剪枝所需的测试数据\n",
    "    if shape(testData)[0] == 0: return getMean(tree) #没有测试数据则对树进行塌陷操作\n",
    "    #如果某个分支是子树，就剪枝。\n",
    "    if (isTree(tree['right']) or isTree(tree['left'])):\n",
    "        lSet, rSet = binSplitDataSet(testData, tree['spInd'], tree['spVal'])\n",
    "    if isTree(tree['left']): tree['left'] = prune(tree['left'], lSet)\n",
    "    if isTree(tree['right']): tree['right'] =  prune(tree['right'], rSet)\n",
    "    #如果都是叶子节点，就合并。具体做法是对合并前后的误差进行比较。如果合并后的误差比不合并小就合并，不然就不合并直接返回\n",
    "    if not isTree(tree['left']) and not isTree(tree['right']):\n",
    "        lSet, rSet = binSplitDataSet(testData, tree['spInd'], tree['spVal'])\n",
    "        errorNoMerge = sum(power(lSet[:,-1] - tree['left'],2)) +\\\n",
    "            sum(power(rSet[:,-1] - tree['right'],2))\n",
    "        treeMean = (tree['left']+tree['right'])/2.0\n",
    "        errorMerge = sum(power(testData[:,-1] - treeMean,2))\n",
    "        if errorMerge < errorNoMerge: \n",
    "            print(\"merging\")\n",
    "            return treeMean\n",
    "        else: return tree\n",
    "    else: return tree"
   ]
  },
  {
   "cell_type": "markdown",
   "metadata": {},
   "source": [
    "### 模型树"
   ]
  },
  {
   "cell_type": "code",
   "execution_count": 4,
   "metadata": {
    "ExecuteTime": {
     "end_time": "2021-02-20T08:24:23.504700Z",
     "start_time": "2021-02-20T08:24:23.346255Z"
    }
   },
   "outputs": [
    {
     "data": {
      "text/plain": [
       "{'spInd': 0,\n",
       " 'spVal': 0.285477,\n",
       " 'left': matrix([[1.69855694e-03],\n",
       "         [1.19647739e+01]]),\n",
       " 'right': matrix([[3.46877936],\n",
       "         [1.18521743]])}"
      ]
     },
     "execution_count": 4,
     "metadata": {},
     "output_type": "execute_result"
    }
   ],
   "source": [
    "\n",
    "\n",
    "#将数据集格式化为目标变量Y和自变量X，用于线性回归\n",
    "def linearSolve(dataSet): \n",
    "    m,n = shape(dataSet)\n",
    "    X = mat(ones((m,n))); Y = mat(ones((m,1)))\n",
    "    X[:,1:n] = dataSet[:,0:n-1]; Y = dataSet[:,-1]\n",
    "    xTx = X.T*X\n",
    "    if linalg.det(xTx) == 0.0:\n",
    "        raise NameError('This matrix is singular, cannot do inverse,\\n try increasing the second value of ops')\n",
    "    ws = xTx.I * (X.T * Y)\n",
    "    return ws,X,Y\n",
    "\n",
    "#在数据不需要切分的时候负责生成叶节点的模型\n",
    "def modelLeaf(dataSet):\n",
    "    ws,X,Y = linearSolve(dataSet)\n",
    "    return ws\n",
    "\n",
    "#在给定数据集上计算误差\n",
    "def modelErr(dataSet):\n",
    "    ws,X,Y = linearSolve(dataSet)\n",
    "    yHat = X * ws\n",
    "    return sum(power(Y - yHat,2))\n",
    "\n",
    "myMat2=mat(loadDataSet('exp2.txt'))\n",
    "createTree(myMat2,modelLeaf,modelErr,(1,10))"
   ]
  },
  {
   "cell_type": "markdown",
   "metadata": {},
   "source": [
    "### 总结\n",
    "树回归优缺点：\n",
    "* 优点：可以对复杂和非线性的数据建模\n",
    "* 缺点：结果不易理解\n",
    "* 适用数据类型：数值型和标称型数据"
   ]
  }
 ],
 "metadata": {
  "kernelspec": {
   "display_name": "Python 3",
   "language": "python",
   "name": "python3"
  },
  "language_info": {
   "codemirror_mode": {
    "name": "ipython",
    "version": 3
   },
   "file_extension": ".py",
   "mimetype": "text/x-python",
   "name": "python",
   "nbconvert_exporter": "python",
   "pygments_lexer": "ipython3",
   "version": "3.6.7"
  },
  "toc": {
   "base_numbering": 1,
   "nav_menu": {},
   "number_sections": true,
   "sideBar": true,
   "skip_h1_title": false,
   "title_cell": "Table of Contents",
   "title_sidebar": "Contents",
   "toc_cell": false,
   "toc_position": {},
   "toc_section_display": true,
   "toc_window_display": false
  }
 },
 "nbformat": 4,
 "nbformat_minor": 4
}

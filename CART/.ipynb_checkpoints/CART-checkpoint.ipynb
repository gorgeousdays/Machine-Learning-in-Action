{
 "cells": [
  {
   "cell_type": "markdown",
   "metadata": {},
   "source": [
    "### CART原理\n",
    "k-近邻算法可以实现分类的功能 但它无法给出数据的内在含义 决策树的优势在于数据形式比较容易理解\n",
    "\n",
    "决策树优点：计算复杂度不高，输出结果易于理解，对中间值的缺失不敏感，可以处理不相关特征数据。\n",
    "缺点：可能会有过度匹配问题。\n",
    "\n",
    "生成决策树可以通过二分法划分数据，但一般采用[ID3算法](https://en.wikipedia.org/wiki/ID3_algorithm)、[C4.5算法](https://en.wikipedia.org/wiki/C4.5_algorithm)或者CART\n",
    "\n",
    "决策树的目标是对数据进行划分 而数据划分的大原则是:**将无序的数据变得有序**。这存在多种方法，但是每种方法都存在各自的优缺点。组织杂乱无章的数据的一种比较好的方法就是使用**信息论**度量信息。\n",
    "\n",
    "香农熵:$$Entropy(S)=-\\sum_{i=1}^np(x_i)log_2p(x_i)$$\n",
    "\n",
    "香农熵越高表示混合的数据越多\n",
    "\n",
    "信息增益:$$Gain(S,A)=Entropy(S)-\\sum_{v\\in Values(A)}\\frac{|S_v|}{|S|}Entropy(S_v)$$\n",
    "\n",
    "在划分数据集前后信息发生的变化。\n",
    "\n",
    "$Entropy(S)$可以用于表示集合的混乱程度 S为整个集合 A为一个特征 v为特征的一个值 如flippers为一个特征 1和0为其值。$S_v$表示特征A为v的子集 而$Entropy(S_v)$就是这个子集$S_v$的混乱程度。我们希望$S_v$越不混乱越好，即通过v这个特征的值可以对目标进行区分 此时得到的信息增益值也是最大的"
   ]
  },
  {
   "cell_type": "code",
   "execution_count": 11,
   "metadata": {
    "ExecuteTime": {
     "end_time": "2021-01-26T05:43:50.676102Z",
     "start_time": "2021-01-26T05:43:50.659143Z"
    }
   },
   "outputs": [
    {
     "name": "stdout",
     "output_type": "stream",
     "text": [
      "[[1, 1, 'yes'], [1, 1, 'yes'], [1, 0, 'no'], [0, 1, 'no'], [0, 1, 'no']]\n",
      "0.9709505944546686\n",
      "[[1, 1, 'maybe'], [1, 1, 'yes'], [1, 0, 'no'], [0, 1, 'no'], [0, 1, 'no']]\n",
      "1.3709505944546687\n"
     ]
    }
   ],
   "source": [
    "#香农熵的计算\n",
    "from math import log\n",
    "\n",
    "#根据两个labels特征判断是否为鱼\n",
    "#生成数据集\n",
    "def createDataSet():\n",
    "    dataSet = [[1, 1, 'yes'],\n",
    "               [1, 1, 'yes'],\n",
    "               [1, 0, 'no'],\n",
    "               [0, 1, 'no'],\n",
    "               [0, 1, 'no']]\n",
    "    labels = ['no surfacing','flippers']\n",
    "    return dataSet, labels\n",
    "\n",
    "def calcShannonEnt(dataSet):\n",
    "    numEntries = len(dataSet)#获取数据集长度 即条数\n",
    "    labelCounts = {} #用于统计各个结果的个数 如yes：2 no：3\n",
    "    for featVec in dataSet: \n",
    "        currentLabel = featVec[-1]\n",
    "        if currentLabel not in labelCounts.keys():\n",
    "            labelCounts[currentLabel] = 0\n",
    "        labelCounts[currentLabel] += 1\n",
    "    shannonEnt = 0.0\n",
    "    for key in labelCounts:\n",
    "        prob = float(labelCounts[key])/numEntries #选择该分类的概率 如yes就为2/5\n",
    "        shannonEnt -= prob * log(prob,2) #香农熵\n",
    "    return shannonEnt\n",
    "myDat,labels=createDataSet()\n",
    "print(myDat)\n",
    "print(calcShannonEnt(myDat))\n",
    "\n",
    "#为输入数据集增加数据分类 观察香农熵的变化\n",
    "\n",
    "myDat[0][-1]='maybe'\n",
    "print(myDat)\n",
    "print(calcShannonEnt(myDat))\n",
    "#最终输出结果为对应数据集合的香浓熵"
   ]
  },
  {
   "cell_type": "markdown",
   "metadata": {},
   "source": [
    "**通过上述代码我们可以计算得到数据集的香农熵 用于度量数据集的无序情况**\n",
    "\n",
    "**为了有效划分数据 我们需要对每个特征划分数据集的结果计算信息熵 然后得出最好的划分办法**"
   ]
  },
  {
   "cell_type": "code",
   "execution_count": 19,
   "metadata": {
    "ExecuteTime": {
     "end_time": "2021-01-26T06:20:32.347604Z",
     "start_time": "2021-01-26T06:20:32.340656Z"
    }
   },
   "outputs": [
    {
     "name": "stdout",
     "output_type": "stream",
     "text": [
      "[[1, 1, 'maybe'], [1, 1, 'yes'], [1, 0, 'no'], [0, 1, 'no'], [0, 1, 'no']]\n",
      "[[1, 'maybe'], [1, 'yes'], [0, 'no']]\n",
      "[[1, 'no'], [1, 'no']]\n"
     ]
    }
   ],
   "source": [
    "def splitDataSet(dataSet, axis, value):#对dataSet数据集的axis列关于value值进行划分\n",
    "    retDataSet = []\n",
    "    for featVec in dataSet:\n",
    "        if featVec[axis] == value:\n",
    "            reducedFeatVec = featVec[:axis]    \n",
    "            reducedFeatVec.extend(featVec[axis+1:])#关于extend方法见下面演示\n",
    "            retDataSet.append(reducedFeatVec)\n",
    "    return retDataSet\n",
    "print(myDat)\n",
    "print(splitDataSet(myDat,0,1))\n",
    "print(splitDataSet(myDat,0,0))"
   ]
  },
  {
   "cell_type": "code",
   "execution_count": 13,
   "metadata": {
    "ExecuteTime": {
     "end_time": "2021-01-26T06:16:12.296618Z",
     "start_time": "2021-01-26T06:16:12.291639Z"
    }
   },
   "outputs": [
    {
     "name": "stdout",
     "output_type": "stream",
     "text": [
      "[1, 2, 3, [1, 2, 3]]\n",
      "[1, 2, 3, [1, 2, 3], 1, 2, 3]\n"
     ]
    }
   ],
   "source": [
    "#append与extend的区别 一个是直接增加元素，另一个是拆分list中元素\n",
    "a=[1,2,3]\n",
    "b=[1,2,3]\n",
    "a.append(b)\n",
    "a.extend(b)\n",
    "print(a)"
   ]
  },
  {
   "cell_type": "code",
   "execution_count": 28,
   "metadata": {
    "ExecuteTime": {
     "end_time": "2021-01-26T07:17:41.315805Z",
     "start_time": "2021-01-26T07:17:41.294862Z"
    }
   },
   "outputs": [
    {
     "data": {
      "text/plain": [
       "0"
      ]
     },
     "execution_count": 28,
     "metadata": {},
     "output_type": "execute_result"
    }
   ],
   "source": [
    "def chooseBestFeatureToSplit(dataSet):\n",
    "    numFeatures = len(dataSet[0]) - 1\n",
    "    baseEntropy = calcShannonEnt(dataSet)\n",
    "    bestInfoGain = 0.0\n",
    "    bestFeature = -1\n",
    "    for i in range(numFeatures):\n",
    "        featList = [example[i] for example in dataSet]\n",
    "        uniqueVals = set(featList)\n",
    "        newEntropy = 0.0\n",
    "        #计算每种划分对应的香农熵 并获取最大信息对应的序列号i\n",
    "        for value in uniqueVals:\n",
    "            subDataSet = splitDataSet(dataSet, i, value)\n",
    "            prob = len(subDataSet)/float(len(dataSet))\n",
    "            newEntropy += prob * calcShannonEnt(subDataSet)     \n",
    "        infoGain = baseEntropy - newEntropy  \n",
    "        if (infoGain > bestInfoGain):\n",
    "            bestInfoGain = infoGain   \n",
    "            bestFeature = i\n",
    "    return bestFeature \n",
    "chooseBestFeatureToSplit(myDat)"
   ]
  },
  {
   "cell_type": "markdown",
   "metadata": {},
   "source": [
    "**从上述的结果我们可以发现第0序列的元素所产生的的信息增益最大 即通过该特征进行划分可以得到较好的结果**"
   ]
  },
  {
   "cell_type": "code",
   "execution_count": 66,
   "metadata": {
    "ExecuteTime": {
     "end_time": "2021-01-26T08:45:12.710632Z",
     "start_time": "2021-01-26T08:45:12.700632Z"
    }
   },
   "outputs": [
    {
     "data": {
      "text/plain": [
       "{'no surfacing': {0: 'no', 1: {'flippers': {0: 'no', 1: 'yes'}}}}"
      ]
     },
     "execution_count": 66,
     "metadata": {},
     "output_type": "execute_result"
    }
   ],
   "source": [
    "import operator\n",
    "def majorityCnt(classList):\n",
    "    classCount={}\n",
    "    for vote in classList:\n",
    "        if vote not in classCount.keys(): classCount[vote] = 0\n",
    "        classCount[vote] += 1\n",
    "    sortedClassCount = sorted(classCount.items(), key=operator.itemgetter(1), reverse=True)\n",
    "    return sortedClassCount[0][0]#返回出现次数最多的分类名称\n",
    "\n",
    "def createTree(dataSet,labels):\n",
    "    classList = [example[-1] for example in dataSet]\n",
    "    if classList.count(classList[0]) == len(classList): \n",
    "        return classList[0]#停止划分直至所有类比都相同\n",
    "    if len(dataSet[0]) == 1: \n",
    "        return majorityCnt(classList)#遍历完所有特征值后返回次数最多的\n",
    "    bestFeat = chooseBestFeatureToSplit(dataSet)\n",
    "    bestFeatLabel = labels[bestFeat]\n",
    "    myTree = {bestFeatLabel:{}}\n",
    "    del(labels[bestFeat])#del用于删除变量\n",
    "    featValues = [example[bestFeat] for example in dataSet]#获取列表包含的所有特征的值\n",
    "    uniqueVals = set(featValues)\n",
    "    for value in uniqueVals:\n",
    "        subLabels = labels[:]      \n",
    "        myTree[bestFeatLabel][value] = createTree(splitDataSet(dataSet, bestFeat, value),subLabels)\n",
    "    return myTree\n",
    "myDat,labels=createDataSet()\n",
    "myTree=createTree(myDat,labels)\n",
    "myTree"
   ]
  },
  {
   "cell_type": "markdown",
   "metadata": {},
   "source": [
    "**通过上述算法 我们成功构建了决策树 为了能更好的展现结果 我们可以对其进行作图 主要借助matplotlib.pyplot**"
   ]
  },
  {
   "cell_type": "code",
   "execution_count": 59,
   "metadata": {
    "ExecuteTime": {
     "end_time": "2021-01-26T08:34:30.317783Z",
     "start_time": "2021-01-26T08:34:30.117318Z"
    }
   },
   "outputs": [
    {
     "data": {
      "image/png": "[encoded data removed]",
      "text/plain": [
       "<Figure size 432x288 with 1 Axes>"
      ]
     },
     "metadata": {},
     "output_type": "display_data"
    }
   ],
   "source": [
    "import matplotlib.pyplot as plt\n",
    "\n",
    "#定义箭头与文本框的格式\n",
    "decisionNode = dict(boxstyle=\"sawtooth\", fc=\"0.8\")\n",
    "leafNode = dict(boxstyle=\"round4\", fc=\"0.8\")\n",
    "arrow_args = dict(arrowstyle=\"<-\")\n",
    "\n",
    "#创建树 这里存储了两个树 通过键入值返回对应的树\n",
    "def retrieveTree(i):\n",
    "    listOfTrees =[{'no surfacing': {0: 'no', 1: {'flippers': {0: 'no', 1: 'yes'}}}},\n",
    "                  {'no surfacing': {0: 'no', 1: {'flippers': {0: {'head': {0: 'no', 1: 'yes'}}, 1: 'no'}}}}\n",
    "                  ]\n",
    "    return listOfTrees[i]\n",
    "\n",
    "#获取节点数目\n",
    "def getNumLeafs(myTree):\n",
    "    numLeafs = 0\n",
    "    firstStr = list(myTree.keys())[0]\n",
    "    secondDict = myTree[firstStr]\n",
    "    for key in secondDict.keys():\n",
    "        if type(secondDict[key]).__name__=='dict':#测试是否为字典类型 如果不是字典类型 则表明是叶子点\n",
    "            numLeafs += getNumLeafs(secondDict[key])\n",
    "        else:   numLeafs +=1\n",
    "    return numLeafs\n",
    "#获取树的层数\n",
    "def getTreeDepth(myTree):\n",
    "    maxDepth = 0\n",
    "    firstStr = list(myTree.keys())[0]\n",
    "    secondDict = myTree[firstStr]\n",
    "    for key in secondDict.keys():\n",
    "        if type(secondDict[key]).__name__=='dict':#测试是否为字典类型，如果不是 则表明s他们为叶子点\n",
    "            thisDepth = 1 + getTreeDepth(secondDict[key])\n",
    "        else:   thisDepth = 1\n",
    "        if thisDepth > maxDepth: maxDepth = thisDepth\n",
    "    return maxDepth\n",
    "\n",
    "#绘制带箭头的标注\n",
    "def plotNode(nodeTxt, centerPt, parentPt, nodeType):\n",
    "    createPlot.ax1.annotate(nodeTxt, xy=parentPt,  xycoords='axes fraction',xytext=centerPt, textcoords='axes fraction',va=\"center\", ha=\"center\", bbox=nodeType, arrowprops=arrow_args )\n",
    "\n",
    "#用于在父节点之间填充文本信息\n",
    "def plotMidText(cntrPt, parentPt, txtString):\n",
    "    xMid = (parentPt[0]-cntrPt[0])/2.0 + cntrPt[0]\n",
    "    yMid = (parentPt[1]-cntrPt[1])/2.0 + cntrPt[1]\n",
    "    createPlot.ax1.text(xMid, yMid, txtString, va=\"center\", ha=\"center\", rotation=30)\n",
    "\n",
    "def plotTree(myTree, parentPt, nodeTxt):#if the first key tells you what feat was split on\n",
    "    numLeafs = getNumLeafs(myTree)#树的宽度\n",
    "    depth = getTreeDepth(myTree)\n",
    "    firstStr = list(myTree.keys())[0]    #该树节点lable对应的文本\n",
    "    cntrPt = (plotTree.xOff + (1.0 + float(numLeafs))/2.0/plotTree.totalW, plotTree.yOff)\n",
    "    plotMidText(cntrPt, parentPt, nodeTxt)\n",
    "    plotNode(firstStr, cntrPt, parentPt, decisionNode)\n",
    "    secondDict = myTree[firstStr]\n",
    "    plotTree.yOff = plotTree.yOff - 1.0/plotTree.totalD\n",
    "    for key in secondDict.keys():\n",
    "        if type(secondDict[key]).__name__=='dict':\n",
    "            plotTree(secondDict[key],cntrPt,str(key))\n",
    "        else:  #如果是叶子节点 则直接画出\n",
    "            plotTree.xOff = plotTree.xOff + 1.0/plotTree.totalW\n",
    "            plotNode(secondDict[key], (plotTree.xOff, plotTree.yOff), cntrPt, leafNode)\n",
    "            plotMidText((plotTree.xOff, plotTree.yOff), cntrPt, str(key))\n",
    "    plotTree.yOff = plotTree.yOff + 1.0/plotTree.totalD\n",
    "\n",
    "def createPlot(inTree):\n",
    "    fig = plt.figure(1, facecolor='white')\n",
    "    fig.clf()\n",
    "    axprops = dict(xticks=[], yticks=[])\n",
    "    createPlot.ax1 = plt.subplot(111, frameon=False, **axprops)    #无坐标\n",
    "    #createPlot.ax1 = plt.subplot(111, frameon=False) #有坐标 \n",
    "    plotTree.totalW = float(getNumLeafs(inTree))\n",
    "    plotTree.totalD = float(getTreeDepth(inTree))\n",
    "    plotTree.xOff = -0.5/plotTree.totalW; plotTree.yOff = 1.0;\n",
    "    plotTree(inTree, (0.5,1.0), '')\n",
    "    plt.show()\n",
    "myTree=retrieveTree(0)\n",
    "#myTree['no surfacing'][3]='maybe'\n",
    "createPlot(myTree)"
   ]
  },
  {
   "cell_type": "markdown",
   "metadata": {
    "ExecuteTime": {
     "end_time": "2021-01-26T08:55:12.274325Z",
     "start_time": "2021-01-26T08:55:12.269362Z"
    }
   },
   "source": [
    "**以下为从文本中读取隐形眼镜数据集 构建决策树的实例**"
   ]
  },
  {
   "cell_type": "code",
   "execution_count": 79,
   "metadata": {
    "ExecuteTime": {
     "end_time": "2021-01-26T08:55:24.492192Z",
     "start_time": "2021-01-26T08:55:23.947731Z"
    }
   },
   "outputs": [
    {
     "name": "stdout",
     "output_type": "stream",
     "text": [
      "{'tearRate': {'normal': {'astigmatic': {'no': {'age': {'pre': 'soft', 'presbyopic': {'prescript': {'myope': 'no lenses', 'hyper': 'soft'}}, 'young': 'soft'}}, 'yes': {'prescript': {'myope': 'hard', 'hyper': {'age': {'pre': 'no lenses', 'presbyopic': 'no lenses', 'young': 'hard'}}}}}}, 'reduced': 'no lenses'}}\n"
     ]
    },
    {
     "data": {
      "image/png": "[encoded data removed]",
      "text/plain": [
       "<Figure size 432x288 with 1 Axes>"
      ]
     },
     "metadata": {},
     "output_type": "display_data"
    }
   ],
   "source": [
    "import os\n",
    "fr=open('lenses.txt')\n",
    "lenses=[inst.strip().split('\\t') for inst in fr.readlines()]\n",
    "## readlines() 表示逐行读取  inst.strip().split('\\t') for inst in fr.readlines()  把文件中的每一行读为一个列表\n",
    "lensesLabels=['age','prescript','astigmatic','tearRate']\n",
    "lensesTree=createTree(lenses,lensesLabels)\n",
    "print(lensesTree)\n",
    "createPlot(lensesTree)"
   ]
  },
  {
   "cell_type": "markdown",
   "metadata": {},
   "source": [
    "### 总结\n",
    "决策树算法的具体步骤为：\n",
    "* 创建树\n",
    "  * 读取数据集合 \n",
    "  * 计算数据集的熵\n",
    "  * 计算信息增益 寻求最优划分方案\n",
    "  \n",
    "* 打印树\n",
    "\n",
    "在决策树的建立过程中，比如上述的隐形眼镜例子中，会出现过拟合的情况 树分的太细了 导致出现过多的数据划分从而产生过度匹配数据集的问题。对此，我们可以通过对其进行**剪枝**，合并相邻两个无法产生较大信息增益的节点，从而消除过度匹配的问题。"
   ]
  }
 ],
 "metadata": {
  "kernelspec": {
   "display_name": "Python 3",
   "language": "python",
   "name": "python3"
  },
  "language_info": {
   "codemirror_mode": {
    "name": "ipython",
    "version": 3
   },
   "file_extension": ".py",
   "mimetype": "text/x-python",
   "name": "python",
   "nbconvert_exporter": "python",
   "pygments_lexer": "ipython3",
   "version": "3.6.7"
  },
  "toc": {
   "base_numbering": 1,
   "nav_menu": {},
   "number_sections": true,
   "sideBar": true,
   "skip_h1_title": false,
   "title_cell": "Table of Contents",
   "title_sidebar": "Contents",
   "toc_cell": false,
   "toc_position": {},
   "toc_section_display": true,
   "toc_window_display": false
  }
 },
 "nbformat": 4,
 "nbformat_minor": 4
}

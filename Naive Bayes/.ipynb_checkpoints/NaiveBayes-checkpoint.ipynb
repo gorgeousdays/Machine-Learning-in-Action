{
 "cells": [
  {
   "cell_type": "markdown",
   "metadata": {},
   "source": [
    "### 朴素贝叶斯原理\n",
    "本质在于选择一个最优的类别猜测结果，即有$P_1$的可能选a 有$P_2$的可能选b 则哪个概率大就选择哪个类别\n",
    "\n",
    "贝叶斯分类准则：\n",
    "\n",
    "$P(c_1|x,y)>P(c_2|x,y)$ 则属于类别$c_1$\n",
    "\n",
    "$P(c_1|x,y)<P(c_2|x,y)$ 则属于类别$c_2$\n",
    "\n",
    "其中$P(c_1|x,y)$表示由x，y确定的数据点来自c1类别的概率$P(c_i|x,y)=\\frac{P(x,y|c_i)P(c_i)}{p(x,y)}$"
   ]
  },
  {
   "cell_type": "markdown",
   "metadata": {},
   "source": [
    "**以下代码我们实现对侮辱性言论的判别**"
   ]
  },
  {
   "cell_type": "code",
   "execution_count": 6,
   "metadata": {
    "ExecuteTime": {
     "end_time": "2021-01-27T07:04:57.236444Z",
     "start_time": "2021-01-27T07:04:57.220452Z"
    },
    "scrolled": true
   },
   "outputs": [
    {
     "name": "stdout",
     "output_type": "stream",
     "text": [
      "['I', 'to', 'licks', 'worthless', 'buying', 'quit', 'dog', 'posting', 'is', 'flea', 'stop', 'cute', 'dalmation', 'steak', 'my', 'him', 'how', 'not', 'park', 'help', 'maybe', 'food', 'love', 'ate', 'take', 'stupid', 'mr', 'has', 'problems', 'garbage', 'please', 'so']\n"
     ]
    },
    {
     "data": {
      "text/plain": [
       "[0,\n",
       " 0,\n",
       " 0,\n",
       " 0,\n",
       " 0,\n",
       " 0,\n",
       " 1,\n",
       " 0,\n",
       " 0,\n",
       " 1,\n",
       " 0,\n",
       " 0,\n",
       " 0,\n",
       " 0,\n",
       " 1,\n",
       " 0,\n",
       " 0,\n",
       " 0,\n",
       " 0,\n",
       " 1,\n",
       " 0,\n",
       " 0,\n",
       " 0,\n",
       " 0,\n",
       " 0,\n",
       " 0,\n",
       " 0,\n",
       " 1,\n",
       " 1,\n",
       " 0,\n",
       " 1,\n",
       " 0]"
      ]
     },
     "execution_count": 6,
     "metadata": {},
     "output_type": "execute_result"
    }
   ],
   "source": [
    "#创建实验样本\n",
    "def loadDataSet():\n",
    "    postingList=[['my', 'dog', 'has', 'flea', 'problems', 'help', 'please'],\n",
    "                 ['maybe', 'not', 'take', 'him', 'to', 'dog', 'park', 'stupid'],\n",
    "                 ['my', 'dalmation', 'is', 'so', 'cute', 'I', 'love', 'him'],\n",
    "                 ['stop', 'posting', 'stupid', 'worthless', 'garbage'],\n",
    "                 ['mr', 'licks', 'ate', 'my', 'steak', 'how', 'to', 'stop', 'him'],\n",
    "                 ['quit', 'buying', 'worthless', 'dog', 'food', 'stupid']]\n",
    "    classVec = [0,1,0,1,0,1] #用于对样本进行标注 1表示有侮辱性 0表示无\n",
    "    return postingList,classVec #返回文档集合和类别标签集合\n",
    "\n",
    "#创造一个所有不重复单词的类别\n",
    "def createVocabList(dataSet):\n",
    "    vocabSet = set([])  #创造一个空集\n",
    "    for document in dataSet:\n",
    "        vocabSet = vocabSet | set(document) #采用位运算符实现集合求并集\n",
    "    return list(vocabSet)\n",
    "\n",
    "#实现统计句中存在哪些单词\n",
    "def setOfWords2Vec(vocabList, inputSet):\n",
    "    returnVec = [0]*len(vocabList)\n",
    "    for word in inputSet:\n",
    "        if word in vocabList:\n",
    "            returnVec[vocabList.index(word)] = 1\n",
    "        else: print(\"the word: %s is not in my Vocabulary!\" % word)\n",
    "    return returnVec\n",
    "\n",
    "listOPosts,listClasses=loadDataSet()\n",
    "myVocabList=createVocabList(listOPosts)\n",
    "print(myVocabList)\n",
    "setOfWords2Vec(myVocabList,listOPosts[0])"
   ]
  },
  {
   "cell_type": "markdown",
   "metadata": {
    "ExecuteTime": {
     "end_time": "2021-01-27T07:07:10.279855Z",
     "start_time": "2021-01-27T07:07:10.274898Z"
    }
   },
   "source": [
    "**上述代码实现将一组单词转化为数字 从而可以对其进行求概率**\n",
    "\n",
    "$P(c_i|\\vec{w})=\\frac{P(\\vec{w}|c_i)P(c_i)}{p(\\vec{w})}$"
   ]
  },
  {
   "cell_type": "code",
   "execution_count": 5,
   "metadata": {
    "ExecuteTime": {
     "end_time": "2021-02-03T09:58:44.025788Z",
     "start_time": "2021-02-03T09:58:44.008401Z"
    }
   },
   "outputs": [
    {
     "name": "stdout",
     "output_type": "stream",
     "text": [
      "[-3.25809654 -2.56494936 -2.56494936 -2.56494936 -2.56494936 -2.56494936\n",
      " -2.56494936 -3.25809654 -3.25809654 -3.25809654 -1.87180218 -2.56494936\n",
      " -2.56494936 -2.15948425 -2.56494936 -3.25809654 -2.56494936 -2.56494936\n",
      " -2.56494936 -3.25809654 -3.25809654 -2.56494936 -2.56494936 -2.56494936\n",
      " -2.56494936 -3.25809654 -3.25809654 -2.56494936 -2.56494936 -2.56494936\n",
      " -3.25809654 -3.25809654]\n",
      "[-2.35137526 -3.04452244 -1.94591015 -3.04452244 -3.04452244 -2.35137526\n",
      " -3.04452244 -1.94591015 -2.35137526 -2.35137526 -3.04452244 -3.04452244\n",
      " -3.04452244 -2.35137526 -3.04452244 -2.35137526 -3.04452244 -3.04452244\n",
      " -3.04452244 -2.35137526 -2.35137526 -3.04452244 -3.04452244 -3.04452244\n",
      " -3.04452244 -2.35137526 -1.65822808 -3.04452244 -3.04452244 -2.35137526\n",
      " -2.35137526 -2.35137526]\n"
     ]
    },
    {
     "data": {
      "text/plain": [
       "0.5"
      ]
     },
     "execution_count": 5,
     "metadata": {},
     "output_type": "execute_result"
    }
   ],
   "source": [
    "import Ipynb_importer\n",
    "from NaiveBayes import loadDataSet,createVocabList,setOfWords2Vec\n",
    "from numpy import *\n",
    "def trainNB0(trainMatrix,trainCategory):#输入文档矩阵和对应的标签矩阵\n",
    "    \n",
    "    numTrainDocs = len(trainMatrix)\n",
    "    numWords = len(trainMatrix[0])\n",
    "    pAbusive = sum(trainCategory)/float(numTrainDocs)#表示侮辱性文档在总文档的占比 即任意文档属于侮辱类的概率\n",
    "    #将所有单词出现数初始化为1 分母初始化为0\n",
    "    p0Num = ones(numWords); p1Num = ones(numWords)#本来为zeros 且Denom为0 但这样就会出现概率为0 那最后乘积也会为0 这样初始化可避免 同时需要改下面的log\n",
    "    p0Denom = 2.0; p1Denom = 2.0  \n",
    "    for i in range(numTrainDocs): \n",
    "        if trainCategory[i] == 1: #1表示侮辱性语言 由于这是个二元问题即是否为侮辱性语言 则直接if else\n",
    "            p1Num += trainMatrix[i]\n",
    "            p1Denom += sum(trainMatrix[i])\n",
    "        else:\n",
    "            p0Num += trainMatrix[i]\n",
    "            p0Denom += sum(trainMatrix[i])\n",
    "    p1Vect = log(p1Num/p1Denom)#本来无log 但上面改后会出现比较严重的下溢出 则需要对其取对数   \n",
    "    p0Vect = log(p0Num/p0Denom)     \n",
    "    return p0Vect,p1Vect,pAbusive#返回值分别为各个单词在类别0 在类别1出现的概率以及文档属于侮辱类的概率\n",
    "\n",
    "listOPosts,listClasses=loadDataSet()#从预先加载值调用数据\n",
    "myVocabList=createVocabList(listOPosts)#构建一个包含所有单词的列表myVocabList\n",
    "trainMat=[]\n",
    "for postinDoc in listOPosts:\n",
    "    trainMat.append(setOfWords2Vec(myVocabList,postinDoc))\n",
    "p0V,p1V,pAb=trainNB0(trainMat,listClasses)\n",
    "print(p0V)\n",
    "print(p1V)\n",
    "pAb"
   ]
  },
  {
   "cell_type": "markdown",
   "metadata": {},
   "source": [
    "**通过上述代码，我们构建好了完整的分类器，它可以对输入文档的类型（是否侮辱性）进行判断，而后我们可以将以上的所以操作(包含print和赋值)封装为一个convenience function**"
   ]
  },
  {
   "cell_type": "code",
   "execution_count": 7,
   "metadata": {
    "ExecuteTime": {
     "end_time": "2021-02-03T10:06:34.863291Z",
     "start_time": "2021-02-03T10:06:34.854670Z"
    }
   },
   "outputs": [
    {
     "name": "stdout",
     "output_type": "stream",
     "text": [
      "['love', 'my', 'dalmation'] classified as:  0\n",
      "['stupid', 'garbage'] classified as:  1\n"
     ]
    }
   ],
   "source": [
    "def classifyNB(vec2Classify, p0Vec, p1Vec, pClass1):#输入为要分类的向量vec2Classify以及使用trainNB0得到的三个概率\n",
    "    #计算两个类别的概率，最后返回大概率对应的类别标签\n",
    "    p1 = sum(vec2Classify * p1Vec) + log(pClass1) \n",
    "    p0 = sum(vec2Classify * p0Vec) + log(1.0 - pClass1)\n",
    "    if p1 > p0:\n",
    "        return 1\n",
    "    else: \n",
    "        return 0\n",
    "def testingNB():\n",
    "    listOPosts,listClasses = loadDataSet()\n",
    "    myVocabList = createVocabList(listOPosts)\n",
    "    trainMat=[]\n",
    "    for postinDoc in listOPosts:\n",
    "        trainMat.append(setOfWords2Vec(myVocabList, postinDoc))\n",
    "    p0V,p1V,pAb = trainNB0(array(trainMat),array(listClasses))\n",
    "    testEntry = ['love', 'my', 'dalmation']\n",
    "    thisDoc = array(setOfWords2Vec(myVocabList, testEntry))\n",
    "    print(testEntry,'classified as: ',classifyNB(thisDoc,p0V,p1V,pAb))\n",
    "    testEntry = ['stupid', 'garbage']\n",
    "    thisDoc = array(setOfWords2Vec(myVocabList, testEntry))\n",
    "    print(testEntry,'classified as: ',classifyNB(thisDoc,p0V,p1V,pAb))\n",
    "\n",
    "testingNB()"
   ]
  },
  {
   "cell_type": "markdown",
   "metadata": {},
   "source": [
    "**上述代码其实都是将单词的出现与否作为一个特征，即无法处理单词出现多次的情况，我们称其为set-of-words model。而如果出现多次，则要使用bag-of-words model,我们只需要将setOfWords2Vec()替换为以下函数bagOfWords2Vec(),其不同在于每遇到一个单词便会增减单词向量中的对应值，而不是将其设为1**"
   ]
  },
  {
   "cell_type": "code",
   "execution_count": 9,
   "metadata": {
    "ExecuteTime": {
     "end_time": "2021-02-03T10:11:27.700667Z",
     "start_time": "2021-02-03T10:11:27.695085Z"
    }
   },
   "outputs": [],
   "source": [
    "def bagOfWords2VecMN(vocabList, inputSet):\n",
    "    returnVec = [0]*len(vocabList)\n",
    "    for word in inputSet:\n",
    "        if word in vocabList:\n",
    "            returnVec[vocabList.index(word)] += 1\n",
    "    return returnVec"
   ]
  },
  {
   "cell_type": "markdown",
   "metadata": {},
   "source": [
    "### 使用朴素贝叶斯过滤垃圾邮件\n",
    "**电子邮件信息存储在email文件夹中**\n",
    "\n",
    "**通用框架**\n",
    "\n",
    "* 收集数据：提供文本文件\n",
    "* 准备数据：将文本文件解析称词条向量\n",
    "* 分析数据：检验词条向量的准确性\n",
    "* 训练算法：使用之前建立的trainNB0()函数\n",
    "* 测试算法：使用classifyNB()，并且构建一个新的测试函数来计算文档集的错误率。\n",
    "* 使用算法：构建一个完整的程序对一组文档进行分类，将错分的文档输出到屏幕上。\n"
   ]
  },
  {
   "cell_type": "code",
   "execution_count": 24,
   "metadata": {
    "ExecuteTime": {
     "end_time": "2021-02-03T10:41:53.324016Z",
     "start_time": "2021-02-03T10:41:53.319840Z"
    }
   },
   "outputs": [
    {
     "name": "stdout",
     "output_type": "stream",
     "text": [
      "['This', 'book', 'is', 'the', 'best', 'book', 'on', 'Python', 'or', 'M.L.']\n",
      "['This', 'book', 'is', 'the', 'best', 'book', 'on', 'Python', 'or', 'M', 'L', '']\n",
      "<generator object <genexpr> at 0x000002D18215AE08>\n"
     ]
    }
   ],
   "source": [
    "#关于文档的切分\n",
    "import re\n",
    "import sys\n",
    "mySent='This book is the best book on Python or M.L.'\n",
    "print(mySent.split())#标点符号会作为词的一部分\n",
    "\n",
    "regEx=re.compile('\\\\W+')#用正则表达式过滤\n",
    "listOfTokens=regEx.split(mySent)\n",
    "print(listOfTokens)#标点符号问题已解决 但会有空字符串\n",
    "\n",
    "[tok.lower() for tok in listOfTokens if len(tok)>0]#采用长度过滤空字符串 用lower()将全部变为小写"
   ]
  },
  {
   "cell_type": "code",
   "execution_count": 39,
   "metadata": {
    "ExecuteTime": {
     "end_time": "2021-02-03T11:35:00.583670Z",
     "start_time": "2021-02-03T11:35:00.537794Z"
    }
   },
   "outputs": [
    {
     "name": "stdout",
     "output_type": "stream",
     "text": [
      "classification error ['home', 'based', 'business', 'opportunity', 'knocking', 'your', 'door', 'don抰', 'rude', 'and', 'let', 'this', 'chance', 'you', 'can', 'earn', 'great', 'income', 'and', 'find', 'your', 'financial', 'life', 'transformed', 'learn', 'more', 'here', 'your', 'success', 'work', 'from', 'home', 'finder', 'experts']\n",
      "the error rate is:  0.1\n"
     ]
    }
   ],
   "source": [
    "#文本解析及垃圾邮件测试函数 spam垃圾邮件 ham与spam相对\n",
    "def textParse(bigString):    #输入string 输出word list\n",
    "    import re\n",
    "    listOfTokens = re.split(r'\\W+', bigString)\n",
    "    return [tok.lower() for tok in listOfTokens if len(tok) > 2] \n",
    "    \n",
    "def spamTest():\n",
    "    docList=[]; classList = []; fullText =[]\n",
    "    for i in range(1,26):\n",
    "        wordList = textParse(open('email/spam/%d.txt' % i).read())\n",
    "        docList.append(wordList)\n",
    "        fullText.extend(wordList)\n",
    "        classList.append(1)\n",
    "        wordList = textParse(open('email/ham/%d.txt' % i).read())\n",
    "        docList.append(wordList)\n",
    "        fullText.extend(wordList)\n",
    "        classList.append(0)\n",
    "        \n",
    "    vocabList = createVocabList(docList)#create vocabulary\n",
    "    trainingSet = list(range(50)); testSet=[]          \n",
    "    #共有50封电子邮件 随机选出10封作为测试集\n",
    "    for i in range(10):\n",
    "        randIndex = int(random.uniform(0,len(trainingSet)))\n",
    "        testSet.append(trainingSet[randIndex])\n",
    "        del(trainingSet[randIndex])  #并从训练集中去除\n",
    "        \n",
    "    trainMat=[]; trainClasses = []\n",
    "    for docIndex in trainingSet:  #\n",
    "        trainMat.append(bagOfWords2VecMN(vocabList, docList[docIndex]))\n",
    "        trainClasses.append(classList[docIndex])\n",
    "    p0V,p1V,pSpam = trainNB0(array(trainMat),array(trainClasses))\n",
    "    errorCount = 0\n",
    "    \n",
    "    for docIndex in testSet:        #进行分类\n",
    "        wordVector = bagOfWords2VecMN(vocabList, docList[docIndex])\n",
    "        if classifyNB(array(wordVector),p0V,p1V,pSpam) != classList[docIndex]:\n",
    "            errorCount += 1\n",
    "            print(\"classification error\",docList[docIndex])\n",
    "    print('the error rate is: ',float(errorCount)/len(testSet))\n",
    "    #return vocabList,fullText\n",
    "spamTest()#注意ham文件夹的第23个txt中存在问号会报错，改为句号"
   ]
  },
  {
   "cell_type": "markdown",
   "metadata": {},
   "source": [
    "**上述代码输出运算的分类的错误率，所以我们可以运行多次来求平均值，计算平均错误率**"
   ]
  },
  {
   "cell_type": "markdown",
   "metadata": {},
   "source": [
    "### 总结\n",
    "关于朴素贝叶斯\n",
    "\n",
    "优点：适用于数据量较少的情况，可以处理多类别问题\n",
    "\n",
    "缺点：对输入数据的准备方式较为敏感，即输入的数据的各个特征之间是具有关联的，那么分类的效果可能不佳，反之，如果各个特征之间的关联度不大，则分类效果可能很不错。\n"
   ]
  }
 ],
 "metadata": {
  "kernelspec": {
   "display_name": "Python 3",
   "language": "python",
   "name": "python3"
  },
  "language_info": {
   "codemirror_mode": {
    "name": "ipython",
    "version": 3
   },
   "file_extension": ".py",
   "mimetype": "text/x-python",
   "name": "python",
   "nbconvert_exporter": "python",
   "pygments_lexer": "ipython3",
   "version": "3.6.7"
  },
  "toc": {
   "base_numbering": 1,
   "nav_menu": {},
   "number_sections": true,
   "sideBar": true,
   "skip_h1_title": false,
   "title_cell": "Table of Contents",
   "title_sidebar": "Contents",
   "toc_cell": false,
   "toc_position": {},
   "toc_section_display": true,
   "toc_window_display": false
  }
 },
 "nbformat": 4,
 "nbformat_minor": 4
}
